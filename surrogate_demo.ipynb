{
 "cells": [
  {
   "cell_type": "code",
   "execution_count": 13,
   "metadata": {},
   "outputs": [],
   "source": [
    "import torch, numpy as np\n",
    "from utils import unpack_sym\n",
    "\n",
    "device = torch.device(\"cuda\" if torch.cuda.is_available() else \"cpu\")\n",
    "ms_file = 'data/feature_engineering_data.h5'\n"
   ]
  },
  {
   "cell_type": "code",
   "execution_count": null,
   "metadata": {},
   "outputs": [],
   "source": [
    "import sys\n",
    "sys.path.append('./feature_engineering/')\n",
    "import feature_extraction as extract\n",
    "from utils import MicrostructureImageDataset\n",
    "\n",
    "MS_train = MicrostructureImageDataset(file_path=ms_file, group_name= 'train_set', dset_name='image_data')\n",
    "MS_bench = MicrostructureImageDataset(file_path=ms_file, group_name= 'benchmark_set', dset_name='image_data')\n",
    "\n",
    "image_index = 17875\n",
    "image = MS_train[image_index]\n",
    "\n",
    "kappa0 = 2.97654        # isotropric thermal heat conductivity of the matrix material\n",
    "kappa1 = 98.03453       # isotropic thermal heat conductivity of the inclusion material\n",
    "R = kappa0/kappa1       # Phase contrast ratio\n",
    "\n",
    "image = np.expand_dims(image.cpu().numpy(), axis=0)\n",
    "train_feature = extract.full_computation(image) \n",
    "train_feature = torch.tensor(np.append(train_feature, [[1/R, R]], axis=1), device=device, dtype=torch.float32)\n",
    "\n"
   ]
  },
  {
   "cell_type": "code",
   "execution_count": null,
   "metadata": {},
   "outputs": [],
   "source": [
    "import matplotlib.pyplot as plt\n",
    "\n",
    "\n",
    "model_jit = torch.jit.load('models/vrnn_therm2D_jit.pt')\n",
    "\n",
    "kappa_pred = unpack_sym(model_jit(train_feature), dim=2)*kappa0\n",
    "\n",
    "print(kappa_pred.cpu().detach().numpy())\n",
    "\n",
    "\n",
    "plt.figure(figsize=(4, 4))\n",
    "plt.imshow(image[0], cmap='viridis')\n",
    "plt.title(f'Microstructure Image (Index: {image_index})')\n",
    "plt.axis('equal')\n",
    "plt.show()\n"
   ]
  },
  {
   "cell_type": "code",
   "execution_count": null,
   "metadata": {},
   "outputs": [],
   "source": []
  }
 ],
 "metadata": {
  "kernelspec": {
   "display_name": "3.12.4",
   "language": "python",
   "name": "python3"
  },
  "language_info": {
   "codemirror_mode": {
    "name": "ipython",
    "version": 3
   },
   "file_extension": ".py",
   "mimetype": "text/x-python",
   "name": "python",
   "nbconvert_exporter": "python",
   "pygments_lexer": "ipython3",
   "version": "3.12.4"
  }
 },
 "nbformat": 4,
 "nbformat_minor": 2
}
