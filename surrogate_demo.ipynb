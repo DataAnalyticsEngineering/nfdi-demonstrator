{
 "cells": [
  {
   "cell_type": "code",
   "execution_count": 4,
   "metadata": {},
   "outputs": [
    {
     "name": "stdout",
     "output_type": "stream",
     "text": [
      "Collecting scipy\n",
      "  Obtaining dependency information for scipy from https://files.pythonhosted.org/packages/fc/da/452e1119e6f720df3feb588cce3c42c5e3d628d4bfd4aec097bd30b7de0c/scipy-1.15.1-cp311-cp311-manylinux_2_17_x86_64.manylinux2014_x86_64.whl.metadata\n",
      "  Downloading scipy-1.15.1-cp311-cp311-manylinux_2_17_x86_64.manylinux2014_x86_64.whl.metadata (61 kB)\n",
      "\u001b[2K     \u001b[90m━━━━━━━━━━━━━━━━━━━━━━━━━━━━━━━━━━━━━━━━\u001b[0m \u001b[32m62.0/62.0 kB\u001b[0m \u001b[31m2.4 MB/s\u001b[0m eta \u001b[36m0:00:00\u001b[0m\n",
      "Requirement already satisfied: numpy<2.5,>=1.23.5 in ./venv/lib/python3.11/site-packages (from scipy) (2.2.2)\n",
      "Downloading scipy-1.15.1-cp311-cp311-manylinux_2_17_x86_64.manylinux2014_x86_64.whl (40.6 MB)\n",
      "\u001b[2K   \u001b[90m━━━━━━━━━━━━━━━━━━━━━━━━━━━━━━━━━━━━━━━━\u001b[0m \u001b[32m40.6/40.6 MB\u001b[0m \u001b[31m18.3 MB/s\u001b[0m eta \u001b[36m0:00:00\u001b[0m:00:01\u001b[0m00:01\u001b[0m\n",
      "Installing collected packages: scipy\n",
      "Successfully installed scipy-1.15.1\n",
      "\n",
      "\u001b[1m[\u001b[0m\u001b[34;49mnotice\u001b[0m\u001b[1;39;49m]\u001b[0m\u001b[39;49m A new release of pip is available: \u001b[0m\u001b[31;49m23.2.1\u001b[0m\u001b[39;49m -> \u001b[0m\u001b[32;49m25.0\u001b[0m\n",
      "\u001b[1m[\u001b[0m\u001b[34;49mnotice\u001b[0m\u001b[1;39;49m]\u001b[0m\u001b[39;49m To update, run: \u001b[0m\u001b[32;49mpip install --upgrade pip\u001b[0m\n"
     ]
    }
   ],
   "source": [
    "!pip install scipy\n",
    "import torch, numpy as np\n",
    "from utils import unpack_sym\n",
    "\n",
    "device = torch.device(\"cuda\" if torch.cuda.is_available() else \"cpu\")\n",
    "ms_file = 'data/feature_engineering_data.h5'\n"
   ]
  },
  {
   "cell_type": "code",
   "execution_count": 7,
   "metadata": {},
   "outputs": [
    {
     "name": "stdout",
     "output_type": "stream",
     "text": [
      "(1, 400, 400) float32\n",
      "[[[1. 1. 1. ... 1. 1. 1.]\n",
      "  [1. 1. 1. ... 1. 1. 1.]\n",
      "  [1. 1. 1. ... 1. 1. 1.]\n",
      "  ...\n",
      "  [1. 1. 1. ... 1. 1. 1.]\n",
      "  [1. 1. 1. ... 1. 1. 1.]\n",
      "  [1. 1. 1. ... 1. 1. 1.]]]\n",
      "Initializing timer for this tag: rb loading and processing\n",
      "rb loading and processing -> elapsed time: 0.0761\n",
      "Initializing timer for this tag: full feature computation of 1 samples\n",
      "fft -> elapsed time: 0.0028\n",
      "xi computation -> elapsed time: 0.0088\n",
      "band features -> elapsed time: 0.0224\n",
      "projected edges -> elapsed time: 0.0002\n",
      "local volume -> elapsed time: 0.0017\n",
      "edge distributions -> elapsed time: 0.0143\n",
      "full feature computation of 1 samples -> elapsed time: 0.0506\n",
      "length of each feature type: [(1, 1), (1, 13), (1, 16), (1, 2), (1, 7), (1, 12)]\n"
     ]
    }
   ],
   "source": [
    "import sys\n",
    "sys.path.append('./feature_engineering/')\n",
    "import feature_extraction as extract\n",
    "from utils import MicrostructureImageDataset\n",
    "\n",
    "MS_train = MicrostructureImageDataset(file_path=ms_file, group_name= 'train_set', dset_name='image_data')\n",
    "MS_bench = MicrostructureImageDataset(file_path=ms_file, group_name= 'benchmark_set', dset_name='image_data')\n",
    "\n",
    "image_index = 17875\n",
    "image = MS_train[image_index]\n",
    "\n",
    "kappa0 = 2.97654        # isotropric thermal heat conductivity of the matrix material\n",
    "kappa1 = 98.03453       # isotropic thermal heat conductivity of the inclusion material\n",
    "R = kappa0/kappa1       # Phase contrast ratio\n",
    "\n",
    "image = np.expand_dims(image.cpu().numpy(), axis=0)\n",
    "print(image.shape, image.dtype)\n",
    "print(image)\n",
    "train_feature = extract.full_computation(image) \n",
    "train_feature = torch.tensor(np.append(train_feature, [[1/R, R]], axis=1), device=device, dtype=torch.float32)"
   ]
  },
  {
   "cell_type": "code",
   "execution_count": 9,
   "metadata": {},
   "outputs": [
    {
     "name": "stdout",
     "output_type": "stream",
     "text": [
      "tensor([[ 4.0952e-01, -5.6918e+01, -3.4999e+01, -2.2401e+00,  9.7522e+00,\n",
      "          1.9465e+01,  2.1559e-01,  5.3100e-01,  8.2142e-01,  4.1233e-01,\n",
      "          1.4600e-02,  5.1082e-01,  1.2343e+00, -6.7536e-01,  5.7300e-01,\n",
      "          7.3112e-01,  8.1311e-01,  1.0000e+00,  7.8444e-01,  1.0000e+00,\n",
      "          8.2005e-01,  1.0000e+00,  6.3607e-01,  1.0000e+00,  7.4061e-01,\n",
      "          1.0000e+00,  6.4199e-01,  1.0000e+00,  7.0653e-01,  1.0000e+00,\n",
      "          8.3250e-01,  7.4000e-01,  4.0625e-01,  9.3750e-02,  1.5625e-01,\n",
      "          1.2500e-01,  2.1875e-01,  4.3246e-01,  3.7162e-01,  3.7875e-03,\n",
      "          6.3657e-03,  1.6401e+00,  4.1625e-03,  6.8561e-03,  1.4289e+00,\n",
      "          3.7094e-03,  6.3408e-03,  1.7135e+00,  4.7531e-03,  7.5771e-03,\n",
      "          1.3516e+00,  3.2936e+01,  3.0362e-02]], device='cuda:0')\n",
      "[[[ 6.681336  -1.0023807]\n",
      "  [-1.0023807  7.929896 ]]]\n"
     ]
    },
    {
     "data": {
      "image/png": "[encoded data removed]",
      "text/plain": [
       "<Figure size 400x400 with 1 Axes>"
      ]
     },
     "metadata": {},
     "output_type": "display_data"
    }
   ],
   "source": [
    "import matplotlib.pyplot as plt\n",
    "\n",
    "\n",
    "model_jit = torch.jit.load('models/vrnn_therm2D_jit.pt')\n",
    "print(train_feature)\n",
    "kappa_pred = unpack_sym(model_jit(train_feature), dim=2)*kappa0\n",
    "\n",
    "print(kappa_pred.cpu().detach().numpy())\n",
    "\n",
    "plt.figure(figsize=(4, 4))\n",
    "plt.imshow(image[0], cmap='viridis')\n",
    "plt.title(f'Microstructure Image (Index: {image_index})')\n",
    "plt.axis('equal')\n",
    "plt.show()"
   ]
  },
  {
   "cell_type": "code",
   "execution_count": null,
   "metadata": {},
   "outputs": [],
   "source": []
  }
 ],
 "metadata": {
  "kernelspec": {
   "display_name": "Python 3 (ipykernel)",
   "language": "python",
   "name": "python3"
  },
  "language_info": {
   "codemirror_mode": {
    "name": "ipython",
    "version": 3
   },
   "file_extension": ".py",
   "mimetype": "text/x-python",
   "name": "python",
   "nbconvert_exporter": "python",
   "pygments_lexer": "ipython3",
   "version": "3.11.6"
  }
 },
 "nbformat": 4,
 "nbformat_minor": 4
}
