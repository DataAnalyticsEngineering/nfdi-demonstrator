{
 "cells": [
  {
   "cell_type": "code",
   "execution_count": 1,
   "metadata": {},
   "outputs": [],
   "source": [
    "import torch, numpy as np\n",
    "from utils import unpack_sym\n",
    "\n",
    "device = torch.device(\"cuda\" if torch.cuda.is_available() else \"cpu\")\n",
    "ms_file = 'data/feature_engineering_data.h5'\n"
   ]
  },
  {
   "cell_type": "code",
   "execution_count": 2,
   "metadata": {},
   "outputs": [
    {
     "name": "stdout",
     "output_type": "stream",
     "text": [
      "Initializing timer for this tag: rb loading and processing\n",
      "rb loading and processing -> elapsed time: 0.1087\n",
      "Initializing timer for this tag: full feature computation of 1 samples\n",
      "fft -> elapsed time: 0.0049\n",
      "xi computation -> elapsed time: 0.0104\n",
      "band features -> elapsed time: 0.0233\n",
      "projected edges -> elapsed time: 0.0002\n",
      "local volume -> elapsed time: 0.0020\n",
      "edge distributions -> elapsed time: 0.0155\n",
      "full feature computation of 1 samples -> elapsed time: 0.0567\n",
      "length of each feature type: [(1, 1), (1, 13), (1, 16), (1, 2), (1, 7), (1, 12)]\n"
     ]
    }
   ],
   "source": [
    "import sys\n",
    "sys.path.append('./feature_engineering/')\n",
    "import feature_extraction as extract\n",
    "from utils import MicrostructureImageDataset\n",
    "\n",
    "MS_train = MicrostructureImageDataset(file_path=ms_file, group_name= 'train_set', dset_name='image_data')\n",
    "MS_bench = MicrostructureImageDataset(file_path=ms_file, group_name= 'benchmark_set', dset_name='image_data')\n",
    "\n",
    "image_index = 1499\n",
    "R = 73.658764\n",
    "\n",
    "image = np.expand_dims(MS_bench[image_index].cpu().numpy(), axis=0)\n",
    "train_feature = extract.full_computation(image) \n",
    "train_feature = torch.tensor(np.append(train_feature, [[1/R, R]], axis=1), device=device, dtype=torch.float32)\n",
    "\n"
   ]
  },
  {
   "cell_type": "code",
   "execution_count": 3,
   "metadata": {},
   "outputs": [
    {
     "name": "stdout",
     "output_type": "stream",
     "text": [
      "[[[0.17803453 0.01091091]\n",
      "  [0.01091091 0.04025435]]]\n"
     ]
    }
   ],
   "source": [
    "model_file = 'data/vrnn_therm2D_jit.pt'\n",
    "model_jit = torch.jit.load('data/vrnn_therm2D_jit.pt')\n",
    "\n",
    "\n",
    "kappa_pred = unpack_sym(model_jit(train_feature), dim=2)\n",
    "print(kappa_pred.cpu().detach().numpy())"
   ]
  }
 ],
 "metadata": {
  "kernelspec": {
   "display_name": "3.12.4",
   "language": "python",
   "name": "python3"
  },
  "language_info": {
   "codemirror_mode": {
    "name": "ipython",
    "version": 3
   },
   "file_extension": ".py",
   "mimetype": "text/x-python",
   "name": "python",
   "nbconvert_exporter": "python",
   "pygments_lexer": "ipython3",
   "version": "3.12.4"
  }
 },
 "nbformat": 4,
 "nbformat_minor": 2
}
