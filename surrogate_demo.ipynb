{
 "cells": [
  {
   "cell_type": "code",
   "execution_count": 1,
   "metadata": {},
   "outputs": [],
   "source": [
    "import torch, numpy as np\n",
    "from surrogate_helpers import VanillaModule, Dataset2DThermal\n",
    "from surrogate_helpers import unpack_sym\n",
    "\n",
    "device = torch.device(\"cuda\" if torch.cuda.is_available() else \"cpu\")"
   ]
  },
  {
   "cell_type": "code",
   "execution_count": 2,
   "metadata": {},
   "outputs": [],
   "source": [
    "ms_file = 'data/feature_engineering_data.h5'\n",
    "\n",
    "# Load data\n",
    "R_range_train = [1/100., 1/50., 1/20., 1/10., 1/5., 1/2., 2, 5, 10, 20, 50, 100]\n",
    "train_data = Dataset2DThermal(ms_file, R_range_train, 'train_set', feature_idx=None)\n",
    "R_range_val = np.concatenate([np.arange(2, 101, dtype=int), 1. / np.arange(2, 101, dtype=int)])\n",
    "val_data = Dataset2DThermal(ms_file, R_range_val, 'benchmark_set', feature_idx=None)\n",
    "\n",
    "train_x, train_y = train_data.features.to(device), train_data.kappa.to(device)\n",
    "val_x, val_y = val_data.features.to(device), val_data.kappa.to(device)"
   ]
  },
  {
   "cell_type": "code",
   "execution_count": null,
   "metadata": {},
   "outputs": [],
   "source": [
    "model_file = 'data/vrnn_therm2D.pt'\n",
    "\n",
    "ann_model = torch.load(model_file, map_location=device).to(device=device, dtype=torch.float32)\n",
    "model = VanillaModule(ann_model).to(device=device, dtype=torch.float32)\n",
    "model.eval()\n",
    "\n",
    "with torch.inference_mode():\n",
    "    train_pred = model(train_x)\n",
    "    val_pred = model(val_x)"
   ]
  },
  {
   "cell_type": "code",
   "execution_count": null,
   "metadata": {},
   "outputs": [],
   "source": [
    "idx = np.random.randint(0, 297000)\n",
    "print(idx)\n",
    "print(f\"val_y:            {val_y[idx, :].cpu().numpy()}\")\n",
    "print(f\"val_pred:         {val_pred[idx, :].cpu().numpy()}\")\n",
    "print(f\"val_y Eigenvalues: {torch.linalg.eigvalsh(unpack_sym(val_y[idx, :], dim=2)).cpu().numpy()}\")\n",
    "print(f\"val_pred Eigenvalues: {torch.linalg.eigvalsh(unpack_sym(val_pred[idx, :], dim=2)).cpu().numpy()}\")"
   ]
  },
  {
   "cell_type": "code",
   "execution_count": null,
   "metadata": {},
   "outputs": [],
   "source": [
    "import sys\n",
    "sys.path.append('./feature_engineering/')\n",
    "import feature_extraction as extract\n",
    "from utils import MicrostructureImageDataset\n",
    "\n",
    "MS_train = MicrostructureImageDataset(file_path=ms_file, group_name= 'train_set', dset_name='image_data')\n",
    "MS_bench = MicrostructureImageDataset(file_path=ms_file, group_name= 'benchmark_set', dset_name='image_data')\n",
    "\n",
    "image_index = 1499\n",
    "R = 73.658764\n",
    "\n",
    "image = np.expand_dims(MS_bench[image_index].cpu().numpy(), axis=0)\n",
    "train_feature = extract.full_computation(image) \n",
    "train_feature = torch.tensor(np.append(train_feature, [[1/R, R]], axis=1), device=device, dtype=torch.float32)\n",
    "\n",
    "kappa_pred = unpack_sym(model(train_feature), dim=2)\n",
    "print(kappa_pred.cpu().detach().numpy())\n",
    "\n",
    "\n"
   ]
  },
  {
   "cell_type": "code",
   "execution_count": null,
   "metadata": {},
   "outputs": [],
   "source": []
  }
 ],
 "metadata": {
  "kernelspec": {
   "display_name": "3.12.4",
   "language": "python",
   "name": "python3"
  },
  "language_info": {
   "codemirror_mode": {
    "name": "ipython",
    "version": 3
   },
   "file_extension": ".py",
   "mimetype": "text/x-python",
   "name": "python",
   "nbconvert_exporter": "python",
   "pygments_lexer": "ipython3",
   "version": "3.12.4"
  }
 },
 "nbformat": 4,
 "nbformat_minor": 2
}
