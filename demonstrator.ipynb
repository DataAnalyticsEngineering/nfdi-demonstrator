{
 "cells": [
  {
   "cell_type": "markdown",
   "id": "cd72116c-8a67-4223-8c91-09d8b06f90a2",
   "metadata": {},
   "source": [
    "# NFDI demonstrator by Data Analytics in Engineering\n",
    "\n",
    "Authors: Julius Herb <herb@mib.uni-stuttgart.de>, Sanath Keshav <keshav@mib.uni-stuttgart.de>, Felix Fritzen <fritzen@mib.uni-stuttgart.de>\n",
    "\n",
    "Affiliation: Heisenberg Professorship Data Analytics in Engineering, Institute of Applied Mechanics, University of Stuttgart | Universitätsstr. 32, 70569 Stuttgart | https://www.mib.uni-stuttgart.de/dae\n",
    "\n",
    ">**Funding acknowledgment**\n",
    ">>\n",
    ">Contributions by Felix Fritzen are partially funded by Deutsche Forschungsgemeinschaft (DFG, German Research Foundation) under Germany’s Excellence Strategy - EXC 2075 – 390740016. Felix Fritzen is funded by Deutsche Forschungsgemeinschaft (DFG, German Research Foundation) within the Heisenberg program DFG-FR2702/8 - 406068690 and DFG-FR2702/10 - 517847245.\n",
    ">\n",
    ">Contributions of Julius Herb are partially funded by the Ministry of Science, Research and the Arts (MWK) Baden-Württemberg, Germany, within the Artificial Intelligence Software Academy (AISA).\n",
    ">\n",
    ">The authors acknowledge the support by the Stuttgart Center for Simulation Science (SimTech).\n",
    "\n",
    "## Thermal homogenization problem in 2D with periodic boundary conditions\n",
    "\n",
    "### Introduction\n",
    "\n",
    "While it is assumed in many applications that components are characterized by a homogeneous microstructure, this is not always the case.\n",
    "In fact, materials often exhibit heterogeneities, which can affect the material behavior drastically.\n",
    "Pronounced examples of this are Metal-Matrix Composites (MMCs). To determine the material behavior in multi-scale simulations, homogenization problems have to be solved.\n",
    "In computational homogenization [1], the overall goal is to determine the effective material behavior of a heterogeneous material based on a given microstructure using numerical simulations.\n",
    "For that, the microstructure is assumed to be a periodic continuation of a representative volume element (RVE) with the domain $\\Omega \\subset \\mathbb{R}^2$.\n",
    "The microscopic position in the RVE is denoted by $\\boldsymbol{x} \\in \\Omega$, while the macroscopic position is referred to as $\\overline{\\boldsymbol{x}}$.\n",
    "\n",
    "Each RVE is assumed to consist of two phases.\n",
    "Hence, the domain is decomposed into a part of a matrix material $\\Omega_0$ and a part of inclusions $\\Omega_1$.\n",
    "Based on that, the following indicator functions are defined as\n",
    "\\begin{align}\n",
    "\t\\chi_0, \\chi_1: \\Omega \\to \\{0, 1\\},\n",
    "\t&& \\chi_0(\\boldsymbol{x}) = \\begin{cases}\n",
    "\t\t1 & \\boldsymbol{x} \\in \\Omega_0 \\,,\\\\\n",
    "\t\t0 & \\boldsymbol{x} \\notin \\Omega_0 \\,.\n",
    "\t\\end{cases}\n",
    "\t&& \\chi_1(\\boldsymbol{x}) = \\begin{cases}\n",
    "\t\t1 & \\boldsymbol{x} \\in \\Omega_1 \\,,\\\\\n",
    "\t\t0 & \\boldsymbol{x} \\notin \\Omega_1 \\,. \n",
    "\t\\end{cases}\n",
    "\\end{align}\n",
    "Using $\\chi_0$ and $\\chi_1$, the volume fraction of both phases $f_i$ with $i \\in \\{0, 1\\}$ is computed as\n",
    "\\begin{equation}\n",
    "\tf_i = \\int_\\Omega \\chi_i(\\boldsymbol{x}) \\mathrm{d}\\boldsymbol{x} \\,.\n",
    "\\end{equation}\n",
    "Often, the microstructures for homogenization problems are given through images, i.e., each pixel of an image defines the assignment of the corresponding area of the microstructure to one of the two phases.\n",
    "Hence, it is convenient to use the underlying regular grid of these images as a discretization of the domain $\\Omega$.\n",
    "As it is common in computational homogenization, the domain of the RVE is chosen to be a cell-centered unit cell around the origin that is defined as\n",
    "\\begin{equation}\n",
    "\t\\Omega = \\left[-\\frac{l_1}{2},\\,\\frac{l_1}{2}\\right] \\times \\left[-\\frac{l_2}{2},\\,\\frac{l_2}{2}\\right] \\,.\n",
    "\\end{equation}\n",
    "\n",
    "### Modeling\n",
    "\n",
    "This demonstrator showcases a thermal homogenization problem [1] of a 2D microstructure.\n",
    "For this problem, the temperature field $\\theta(\\boldsymbol{x}) \\in \\mathbb{R}$ is the primary variable.\n",
    "Besides, as secondary variables there are the temperature gradient $\\boldsymbol{g}(\\boldsymbol{x}) = \\nabla \\theta(\\boldsymbol{x}) \\in \\mathbb{R}^2$ and the heat flux $\\boldsymbol{q}(\\boldsymbol{x}) \\in \\mathbb{R}^2$.\n",
    "These secondary variables are related by Fourier's law:\n",
    "\\begin{equation}\n",
    "\t\\boldsymbol{q}(\\boldsymbol{x}) = -\\boldsymbol{\\kappa}(\\boldsymbol{x}) \\boldsymbol{g}(\\boldsymbol{x}) \\,,\n",
    "\\end{equation}\n",
    "where the heat conductivity tensor $\\boldsymbol{\\kappa}(\\boldsymbol{x}) \\in \\mathrm{Sym} \\left( \\mathbb{R}^{2 \\times 2} \\right)$ has to be symmetric and positive definite and is different in each phase.\n",
    "The homogenization or volume averaging operator $\\langle \\bullet \\rangle$ is used to obtain the macroscopic representation $\\overline{\\boldsymbol{q}}$ of a general microscopic field $\\boldsymbol{q}(\\boldsymbol{x})$ via\n",
    "\\begin{equation}\n",
    "\t\\overline{\\boldsymbol{q}} = \\langle \\boldsymbol{q} \\rangle = \\frac{1}{|\\Omega|} \\int_{\\Omega} \\boldsymbol{q}(\\boldsymbol{x}) \\mathrm{d}\\boldsymbol{x} \\,.\n",
    "\\end{equation}\n",
    "The governing equation for thermal homogenization problems is the PDE for steady-state heat conduction,\n",
    "\\begin{align}\n",
    "\t\\mathrm{div}\\left(\\boldsymbol{q}(\\boldsymbol{x})\\right) = 0 \\,, && \\boldsymbol{x} \\in \\Omega \\,.\n",
    "\\end{align}\n",
    "\n",
    "For homogenization problems, it is convenient to decompose the primary variable into parts that are either related to macroscopic or microscopic quantities.\n",
    "In the case of thermal homogenization problems, the temperature field is decomposed into\n",
    "\\begin{align}\n",
    "\t\\theta(\\boldsymbol{x}) = \\overline{\\theta} + \\overline{\\boldsymbol{g}} \\cdot \\boldsymbol{x} + \\tilde{\\theta}(\\boldsymbol{x}) \\,, && \\boldsymbol{x} \\in \\Omega \\,,\n",
    "\\end{align}\n",
    "with the macroscopic temperature $\\overline{\\theta}$ (here we set $\\overline{\\theta} = 0 \\, [\\mathrm{K}]$ w.l.o.g.), the temperature field $\\overline{\\boldsymbol{g}} \\cdot \\boldsymbol{x}$ that is induced by a macroscopic temperature gradient $\\overline{\\boldsymbol{g}}$, and the remaining temperature fluctuation field $\\tilde{\\theta}(\\boldsymbol{x})$.\n",
    "\n",
    "The sought-after quantity in thermal homogenization problems is mainly the effective heat conductivity tensor $\\overline{\\boldsymbol{\\kappa}}$ that determines the homogenized response of the material,\n",
    "\\begin{equation}\n",
    "\t\\overline{\\boldsymbol{q}} = -\\overline{\\boldsymbol{\\kappa}} \\, \\overline{\\boldsymbol{g}} \\,.\n",
    "\\end{equation}\n",
    "It is obtained by solving the PDE for two linearly independent load cases $\\overline{\\boldsymbol{g}} \\in \\left\\{ \\overline{\\boldsymbol{g}}^{(1)}, \\overline{\\boldsymbol{g}}^{(2)} \\right\\}$.\n",
    "Then, the effective heat counductivity tensor $\\overline{\\boldsymbol{\\kappa}} \\in \\mathrm{Sym}\\left( \\mathbb{R}^{2 \\times 2} \\right)$ is recovered by volume averaging the computed heat fluxes $\\overline{\\boldsymbol{q}}^{(j)} = \\left\\langle \\boldsymbol{q}^{(j)} \\right\\rangle$ for both load cases $j \\in \\{1, 2\\}$ and calculating\n",
    "\\begin{align}\n",
    "\t\\overline{\\boldsymbol{\\kappa}} = -\\begin{bmatrix} \\overline{\\boldsymbol{q}}^{(1)} & \\overline{\\boldsymbol{q}}^{(2)} \\end{bmatrix} \\begin{bmatrix} \\overline{\\boldsymbol{g}}^{(1)} & \\overline{\\boldsymbol{g}}^{(2)} \\end{bmatrix}^{-1} \\in \\mathbb{R}^{2 \\times 2} \\,.\n",
    "\\end{align}\n",
    "\n",
    "### Simulation\n",
    "\n",
    "The classical approach to solving homogenization problems is using Finite Element Method (FEM) simulations.\n",
    "This involves deriving a variational formulation and leads to an algebraic linear system that can be solved e.g. using iterative methods.\n",
    "For this, a matrix-free conjugate gradient (CG) method can be used. However, for finely resolved discretizations the system becomes ill-conditioned and this leads to slow convergence of the unpreconditioned CG method.\n",
    "As an alternative, FFT-based solvers (e.g. the Moulinec-Suquet [2]) scheme has been used as an efficient alternative, but this can introduce artifacts due to the Gibbs phenomenon.\n",
    "\n",
    "In recent years, attempts have been made to merge very efficient FFT-based solvers like the collocation method of Moulinec-Suquet [2] into the established framework of the finite element method (FEM).\n",
    "A breakthrough in this regard was achieved with the development of Fourier-Accelerated Nodal Solvers (FANS) that are published in [3].\n",
    "As the name suggests, the primary variables for FANS are the nodal values, i.e., the temperature fluctuation field $\\tilde{\\theta}(\\boldsymbol{x})$ for the thermal homogenization problem, respectively.\n",
    "FANS can be used as a preconditioner for a matrix-free CG method, which leads to the *FANS-CG* algorithm that converges rapidly for homogenization problems with periodic boundary conditions.\n",
    "\n",
    "In addition to our open-source CPU-based implementation <https://github.com/DataAnalyticsEngineering/FANS> of *FANS-CG* tailored to HPC clusters, we are developing rapid GPU-based solvers (including a GPU-based version of *FANS-CG*) that can be used to solve small and medium-sized homogenization problems in near real-time [4].\n",
    "\n",
    "### Machine-learned surrogate models\n",
    "\n",
    "TBD [5]\n",
    "\n",
    "### References:\n",
    "\n",
    "[1] Fritzen, F. (2011). Microstructural modeling and computational homogenization of the physically linear and nonlinear constitutive behavior of micro-heterogeneous materials. KIT Scientific Publishing. https://doi.org/10.5445/KSP/1000023534 (esp. section 4.2)\n",
    "\n",
    "[2] Moulinec, H., & Suquet, P. (1998). A numerical method for computing the overall response of nonlinear composites with complex microstructure. In Computer Methods in Applied Mechanics and Engineering (Vol. 157, Issues 1–2, pp. 69–94). Elsevier BV. https://doi.org/10.1016/s0045-7825(97)00218-1\n",
    "\n",
    "[3] Leuschner, M., & Fritzen, F. (2017). Fourier-Accelerated Nodal Solvers (FANS) for homogenization problems. In Computational Mechanics (Vol. 62, Issue 3, pp. 359–392). Springer Science and Business Media LLC. https://doi.org/10.1007/s00466-017-1501-5\n",
    "\n",
    "[4] Herb, J., & Fritzen, F. (2025). FNO-CG: Accelerating CG solvers with Fourier Neural Operators (FNOs) \\[Computer software\\]. In preparation.\n",
    "\n",
    "[5] Keshav, S., Herb, J., & Fritzen, F. (2025). Voigt-Reuss-Net: A universal approach to microstructure-property forecasting with physical guarantees. In preparation.\n",
    "\n",
    "[6] Lissner, J., & Fritzen, F. (2019). Data-Driven Microstructure Property Relations. In Mathematical and Computational Applications (24.2 pp. 24-57) . https://doi.org/10.3390/mca24020057\n",
    "\n",
    "### Imports"
   ]
  },
  {
   "cell_type": "code",
   "execution_count": 1,
   "id": "16780d93-5724-4032-8dfc-2863f2972244",
   "metadata": {},
   "outputs": [],
   "source": [
    "#!pip install -r requirements.txt --quiet --disable-pip-version-check --root-user-action=ignore\n",
    "import torch\n",
    "import numpy as np\n",
    "import os\n",
    "import matplotlib\n",
    "from matplotlib import pyplot as plt\n",
    "import ipywidgets\n",
    "from utils import *\n",
    "from plotting import *\n",
    "import timeit\n",
    "import time\n",
    "%matplotlib widget"
   ]
  },
  {
   "cell_type": "markdown",
   "id": "7d853e27-bb9e-44aa-b800-9ec50ae8a8fd",
   "metadata": {},
   "source": [
    "### Configuration\n",
    "\n",
    "Set `device` to your available device. Use if possible a NVIDIA GPU of a recent generation (we recommend Ada Lovelace or Hopper).\n",
    "It is also possible to run the demonstrator on the CPU (by setting `device = \"cpu\"`) but with significantly worse performance."
   ]
  },
  {
   "cell_type": "code",
   "execution_count": null,
   "id": "974657f4-9598-4082-89dd-3fa5e80d9584",
   "metadata": {},
   "outputs": [],
   "source": [
    "dtype = torch.float64\n",
    "device = \"cuda\" if torch.cuda.is_available() else \"cpu\"\n",
    "args = {\"device\": device, \"dtype\": dtype}\n",
    "print(args)"
   ]
  },
  {
   "cell_type": "markdown",
   "id": "9d8b3330-c7fc-4744-bfa5-7b978a71d8ba",
   "metadata": {},
   "source": [
    "### Load microstructures dataset from DaRUS\n",
    "\n",
    "Dataset citation: Lißner, J. (2023). \"Microstructure feature engineering data\", https://doi.org/10.18419/DARUS-3366, DaRUS, V1\n",
    "\n",
    "Related publication: Lißner, J., & Fritzen, F. (2024). Microstructure homogenization: human vs machine. Adv. Model. and Simul. in Eng. Sci. 11, 21. https://doi.org/10.1186/s40323-024-00275-1\n",
    "\n",
    "The dataset contains image data of periodic microstructural representative volume elements (RVE), as well as the effective heat conductivity for multiple phase contrasts.\n",
    "Various features and feature descriptors (explained in the related publication) are provided, as well as the computation thereof. The features were used in a machine learning regression setting (see related publication).\n",
    "The data is split into two sets, one with 30.000 samples containing only one inclusion type per RVE and another set of 1.500 samples containing mixed inclusions."
   ]
  },
  {
   "cell_type": "code",
   "execution_count": null,
   "id": "c5be425b-b965-437a-aad9-2b1e72db62fe",
   "metadata": {},
   "outputs": [],
   "source": [
    "file_path = os.path.join(\"data\", \"feature_engineering_data.h5\")\n",
    "group_name = \"train_set\"\n",
    "\n",
    "if not os.path.isfile(file_path):\n",
    "    print(\"Downloading data from DaRUS...\")\n",
    "    darus_download(repo_id=3366, file_id=4, file_path=file_path)\n",
    "\n",
    "samples = MicrostructureImageDataset(\n",
    "    file_path=file_path,\n",
    "    group_name=group_name\n",
    ")\n",
    "print('Number of samples in dataset:', len(samples))"
   ]
  },
  {
   "cell_type": "markdown",
   "id": "966d7e71-c706-44f4-8f28-b576210f6395",
   "metadata": {},
   "source": [
    "### Load microstructure and plot it"
   ]
  },
  {
   "cell_type": "code",
   "execution_count": null,
   "id": "f088d6bf-2d77-4f17-9674-1030c5458355",
   "metadata": {},
   "outputs": [],
   "source": [
    "idx = 37\n",
    "image = samples[idx].unsqueeze(0)\n",
    "\n",
    "fig, ax = plt.subplots(1, 1)\n",
    "cax = ax.imshow(image[0].T.cpu(), origin=\"lower\")\n",
    "fig.colorbar(cax, ax=ax)\n",
    "ax.set_title(r\"$\\chi_1(x)$\")\n",
    "fig.tight_layout()\n",
    "plt.show()"
   ]
  },
  {
   "cell_type": "markdown",
   "id": "d27de5cc-1e8a-4111-84ac-31fb9f92eaef",
   "metadata": {},
   "source": [
    "### Define material parameters and loading\n",
    "\n",
    "Often, the heat conduction in each phase is assumed to be isotropic, that is, $\\boldsymbol{\\kappa}_0 = \\kappa_0 \\boldsymbol{I} \\,, \\boldsymbol{\\kappa}_1 = \\kappa_1 \\boldsymbol{I}$ with $\\kappa_0, \\kappa_1 \\in \\mathbb{R}$.\n",
    "The assumption of isotropy is only made for simplicity and does not represent a restriction on the presented algorithms. With that, the following coefficient field completely describes the local heat conductivity of the microstructure,\n",
    "\\begin{align}\n",
    "\t\\kappa(\\boldsymbol{x}) = \\kappa_0 \\chi_0(\\boldsymbol{x}) + \\kappa_1 \\chi_1(\\boldsymbol{x}) \\,.\n",
    "\\end{align}\n",
    "For now, we set $\\kappa_0 = 1$, $\\kappa_1 = 0.2$, and the loading (i.e. the macroscopic temperature gradient $\\boldsymbol{g}$) to\n",
    "\\begin{equation}\n",
    "    \\bar{\\boldsymbol{g}}^{(1)} = \\begin{bmatrix} 1 \\\\ 0 \\end{bmatrix} \\,, \\quad \\bar{\\boldsymbol{g}}^{(2)} = \\begin{bmatrix} 0 \\\\ 1 \\end{bmatrix} \\,.\n",
    "\\end{equation}\n",
    "Both the material parameter $\\kappa_1$ and the direction of the loadings $\\bar{\\boldsymbol{g}}^{(1)}$, $\\bar{\\boldsymbol{g}}^{(2)}$ can be changed later in the interactive widget."
   ]
  },
  {
   "cell_type": "code",
   "execution_count": null,
   "id": "8c665d79-6c8e-4704-bbf4-2bbba3c8cc16",
   "metadata": {},
   "outputs": [],
   "source": [
    "params = torch.tensor([1., 0.2]).reshape(2, 1)\n",
    "print(\"Material parameters:\\n\", params)\n",
    "\n",
    "assert params.min() > 0, \"thermal conductivity has to be positive\"\n",
    "assert (params.min() / params.max() <= 0.9), \"phase contrast should not be close to 1\"\n",
    "\n",
    "param_field = get_param_fields(image, params).to(**args).unsqueeze(0)\n",
    "loading = torch.eye(2, **args)\n",
    "print(\"Loading:\\n\", loading.cpu())\n",
    "\n",
    "fig, ax = plt.subplots(1, 1)\n",
    "cax = ax.imshow(param_field[0,0].T.cpu(), origin=\"lower\")\n",
    "fig.colorbar(cax, ax=ax)\n",
    "ax.set_title(r\"$\\kappa(x)$\")\n",
    "fig.tight_layout()\n",
    "plt.show()"
   ]
  },
  {
   "cell_type": "markdown",
   "id": "22f90d28-ec26-41a8-8f65-5cb2486e5485",
   "metadata": {},
   "source": [
    "### Load PyTorch model that performs the simulation\n",
    "\n",
    "The simulation is defined as a PyTorch model is using our *FNO-CG* [4] software package that offers GPU-accelerated implementation of preconditioned iterative solvers. In this case, the algorithm of the *FANS-CG* [3] solver is performed on the GPU (or CPU).\n",
    "\n",
    "Optionally, the model can be compiled with *TorchDynamo* to enable faster execution (set `compile_model=True`). However, the compilation itself takes a few seconds. If the `ipykernel` crashes during compilation or while loading a precompiled model it is recommended to set `compile_model=False`.\n",
    "\n",
    "Be aware that compilation using *TorchDynamo* does not always accelerate the model. Particularly on older NVIDIA architectures it can introduce additional overhead.\n",
    "Nevertheless, models that have been compiled into a C++ shared library (*.so file) can be also used outside of a Python environment."
   ]
  },
  {
   "cell_type": "code",
   "execution_count": null,
   "id": "34c0aa1b-bce8-4f7e-8b1c-4246483c2faf",
   "metadata": {},
   "outputs": [],
   "source": [
    "model = load_fnocg_model(problem=\"thermal\", dim=2, bc=\"per\", n_layers=15, device=device, dtype=dtype, compile_model=False)"
   ]
  },
  {
   "cell_type": "code",
   "execution_count": null,
   "id": "006c33d1-0cad-4036-8ef9-b35ec5102173",
   "metadata": {},
   "outputs": [],
   "source": [
    "\"\"\"\n",
    "with torch.inference_mode():\n",
    "    model_jit = torch.jit.trace(model, (param_field.to(**args), loading.to(**args)))\n",
    "torch.jit.save(model_jit, os.path.join(\"models\", \"model_thermal_2d_per_15l_jit.pt\"))\n",
    "model = torch.jit.load(os.path.join(\"models\", \"model_thermal_2d_per_15l_jit.pt\"))\n",
    "compile_model = True\n",
    "if compile_model:\n",
    "    model = torch.compile(model, mode=\"reduce-overhead\")\n",
    "\"\"\""
   ]
  },
  {
   "cell_type": "markdown",
   "id": "13f87eab-48f3-4928-a120-cddaa25ee0bc",
   "metadata": {},
   "source": [
    "### Load PyTorch surrogate model (Voigt-Reuss-Net)\n",
    "\n",
    "The objective of the surrogate model is to predict the effective heat conductivity tensor based on the microstructure. Rather than inputting the microstructure images directly into the neural network, each microstructure is characterized by 51 geometric descriptors, designed to capture essential morphological features.  These descriptors include\n",
    "\n",
    " - Volume fraction of inclusions (1 scalar).\n",
    " - Reduced-basis coefficients of the two-point correlation function (13 scalars).\n",
    " - Band features (16 scalars) to quantify phase connectivity along specific directions.\n",
    " - Global directional means (2 scalars) to capture flux hindrance across principal axes.\n",
    " - Volume fraction distribution (7 scalars) to reflect different scales of inclusion size.\n",
    " - Directional edge distribution (12 scalars) to encode the shape and orientation of inclusions.\n",
    "\n",
    "Details of these features can be found in [6]. The resulting descriptors provide a compact yet descriptive representation that is well-suited for training data-driven models while greatly reducing computational overhead.\n",
    "\n",
    "The surrogate model (Voigt-Reuss-Net) [5] takes computed microstructure features as input and predicts the effective thermal conductivity tensor $\\overline{\\boldsymbol{\\kappa}}$. It provides a fast alternative to running full-field simulations, delivering instant predictions while maintaining physical admissibility by design. The model ensures that predicted conductivities always lie within theoretical Voigt-Reuss bounds and satisfy material symmetry requirements."
   ]
  },
  {
   "cell_type": "code",
   "execution_count": 8,
   "id": "6e0dc8b0-0876-4f1a-b486-95c3322016fc",
   "metadata": {},
   "outputs": [],
   "source": [
    "vrnn = torch.jit.load(os.path.join(\"models\", \"vrnn_therm2D_jit.pt\")).to(device=device, dtype=torch.float32)\n",
    "compile_model = False\n",
    "if compile_model:\n",
    "    vrnn = torch.compile(vrnn, mode=\"reduce-overhead\")\n",
    "\n",
    "def surrogate(param_field):\n",
    "    kappa0 = param_field.min().item()\n",
    "    features = get_surrogate_features(param_field).to(device=device, dtype=torch.float32)\n",
    "    return unpack_sym(vrnn(features), dim=2).squeeze() * kappa0"
   ]
  },
  {
   "cell_type": "markdown",
   "id": "6f616f16-e120-4f97-89a7-b4b59490cc9d",
   "metadata": {},
   "source": [
    "### Run benchmark of simulation\n",
    "\n",
    "Runtime for a single model evaluation should be <10ms on a state-of-the-art NVIDIA GPU, <150ms on an older (or e.g. notebook) NVIDIA GPU, and <1000ms on the CPU.\n",
    "In this time, the model performs a FEM simulation with 160000 degrees of freedom for each given microstructure and each given loading, respectively.\n",
    "\n",
    "Batched model evaluations are also possible to achieve a high-throughput analysis, but when using *TorchDynamo* the model has to be compiled with appropriate settings."
   ]
  },
  {
   "cell_type": "code",
   "execution_count": null,
   "id": "1a5c371d-4473-4f8e-a3d1-3cb684ff107b",
   "metadata": {},
   "outputs": [],
   "source": [
    "def run_simulation():\n",
    "    with torch.inference_mode():\n",
    "        model(param_field.to(**args), loading.to(**args))\n",
    "        if device != \"cpu\":\n",
    "            torch.cuda.synchronize()\n",
    "\n",
    "n_runs = 10\n",
    "for _ in range(3):\n",
    "    run_simulation()\n",
    "model_time = timeit.timeit(run_simulation, number=n_runs) / n_runs\n",
    "print(f\"Runtime per execution: {model_time*1000.:.4f}ms\")"
   ]
  },
  {
   "cell_type": "markdown",
   "id": "9edeb3f7-9462-4f40-b93f-dcb73aae5dfc",
   "metadata": {},
   "source": [
    "### Run benchmark of surrogate model"
   ]
  },
  {
   "cell_type": "code",
   "execution_count": null,
   "id": "36409d97-4a00-4370-99bd-d8fa0b9372a5",
   "metadata": {},
   "outputs": [],
   "source": [
    "def run_surrogate():\n",
    "    with torch.inference_mode():\n",
    "        surrogate(param_field)\n",
    "    if device != \"cpu\":\n",
    "        torch.cuda.synchronize()\n",
    "\n",
    "n_runs = 10\n",
    "for _ in range(3):\n",
    "    run_surrogate()\n",
    "model_time = timeit.timeit(run_surrogate, number=n_runs) / n_runs\n",
    "print(f\"Runtime per execution: {model_time*1000.:.4f}ms\")"
   ]
  },
  {
   "cell_type": "markdown",
   "id": "8a72e963-63d4-461f-bb56-7f3ab1bc90f5",
   "metadata": {},
   "source": [
    "### Run simulation model to obtain full-field solutions\n",
    "\n",
    "The PyTorch model maps the field of material parameters `param_field` (in this case $\\kappa(\\boldsymbol{x})$) and the `loading` (in this case $\\begin{bmatrix} \\bar{\\boldsymbol{g}}^{(1)}, \\bar{\\boldsymbol{g}}^{(2)} \\end{bmatrix}$) to the variable `field`, which includes the temperature fluctuation fields $\\tilde{\\theta}(\\boldsymbol{x})$ and the heat flux vector-fields $\\boldsymbol{q}(\\boldsymbol{x})$.\n",
    "\n",
    "The shapes of the tensors are as follows:\n",
    "- `param_field` with material parameter $\\kappa(\\boldsymbol{x})$: $n_{\\mathrm{microstructures}} \\times 1 \\times n \\times n$\n",
    "- `loading` with macroscopic temperature gradients $\\bar{\\boldsymbol{g}}^{(i)}$: $n_{\\mathrm{loadings}} \\times 2$\n",
    "- `temp` with temperature fluctuations $\\tilde{\\theta}(\\boldsymbol{x})$: $n_{\\mathrm{microstructures}} \\times n_{\\mathrm{loadings}} \\times 1 \\times n \\times n$\n",
    "- `flux` with heat flux vector-field $\\boldsymbol{q}(\\boldsymbol{x})$: $n_{\\mathrm{microstructures}} \\times n_{\\mathrm{loadings}} \\times 2 \\times n \\times n$\n",
    "- `field` with stacked `temp` and `flux`: $n_{\\mathrm{microstructures}} \\times n_{\\mathrm{loadings}} \\times 3 \\times n \\times n$\n",
    "\n",
    "In this case, we have $n_{\\mathrm{microstructures}} = 1$, $n_{\\mathrm{loadings}} = 2$, and $n = 400$."
   ]
  },
  {
   "cell_type": "code",
   "execution_count": null,
   "id": "de96daf1-88d4-46ea-b460-cc040dd93dfa",
   "metadata": {},
   "outputs": [],
   "source": [
    "with torch.inference_mode():\n",
    "    field = model(param_field.to(**args), loading.to(**args))\n",
    "    temp = field[..., :1, :, :].cpu()\n",
    "    flux = field[..., 1:, :, :].cpu()\n",
    "print(\"param_field.shape:\", param_field.shape)\n",
    "print(\"loading.shape:\", loading.shape)\n",
    "print(\"temp.shape:\", temp.shape)\n",
    "print(\"flux.shape:\", flux.shape)\n",
    "print(\"field.shape:\", field.shape)"
   ]
  },
  {
   "cell_type": "code",
   "execution_count": null,
   "id": "813723b1-1f64-48ae-b39f-0cdec1c4a988",
   "metadata": {},
   "outputs": [],
   "source": [
    "surrogate(param_field.to(**args))"
   ]
  },
  {
   "cell_type": "markdown",
   "id": "0d62c369-8cba-4ed5-b543-a29c22f610ee",
   "metadata": {},
   "source": [
    "### Visualize loadings using streamlines\n",
    "\n",
    "The following plot shows the temperature field $\\theta(\\boldsymbol{x})$ together with streamlines due to the heat flux vector-field $\\boldsymbol{q}(\\boldsymbol{x})$ for both load cases $\\overline{\\boldsymbol{g}} \\in \\left\\{ \\overline{\\boldsymbol{g}}^{(1)}, \\overline{\\boldsymbol{g}}^{(2)} \\right\\}$."
   ]
  },
  {
   "cell_type": "code",
   "execution_count": null,
   "id": "0e8b1973-9c12-4c88-a32e-e07f5937edc0",
   "metadata": {},
   "outputs": [],
   "source": [
    "X, Y = get_node_coords(temp)\n",
    "temp_macro = get_macro_temp(temp[..., :1, :, :], loading.cpu())\n",
    "loading_names = [r\"$\\bar{\\boldsymbol{g}}=\\bar{\\boldsymbol{g}}^{(1)}$\", r\"$\\bar{\\boldsymbol{g}}=\\bar{\\boldsymbol{g}}^{(2)}$\"]\n",
    "\n",
    "fig, ax = plt.subplots(1, len(loading_names), figsize=[6.3, 2.6], dpi=300)\n",
    "for load_i, load_name in enumerate(loading_names):\n",
    "    pcm = ax[load_i].imshow(temp_macro[0, load_i, 0].T.cpu().numpy(), origin=\"lower\", extent=[-0.5, 0.5, -0.5, 0.5], cmap=\"jet\")\n",
    "    clb = plt.colorbar(pcm, ax=ax[load_i])\n",
    "    clb.ax.set_title(r\"$\\theta \\,\\mathrm{[K]}$\")\n",
    "    ax[load_i].imshow(image[0].T.cpu().numpy(), origin=\"lower\", extent=[-0.5, 0.5, -0.5, 0.5], cmap=\"Greys\", alpha=0.25, rasterized=True)\n",
    "    flux_mag = flux[0].norm(dim=-3)[load_i].T\n",
    "    lw = flux_mag * 0.5 / flux_mag.max().item()\n",
    "    ax[load_i].streamplot(X.cpu().numpy(), Y.cpu().numpy(), flux[0, load_i, 0].T.cpu().numpy(), flux[0, load_i, 1].T.numpy(), color='k', density=0.6, broken_streamlines=False, linewidth=lw.numpy(), arrowsize=0.5)\n",
    "    ax[load_i].set_title(rf\"Loading {load_name}\")\n",
    "for ax_handle in ax.ravel():\n",
    "    ax_handle.set_xlim(-0.5, 0.5)\n",
    "    ax_handle.set_ylim(-0.5, 0.5)\n",
    "    ax_handle.set_xticks([-0.5, 0.0, 0.5])\n",
    "    ax_handle.set_yticks([-0.5, 0.0, 0.5])\n",
    "    ax_handle.set_xlabel(r\"$\\frac{x_1}{l_1}$\")\n",
    "    ax_handle.set_ylabel(r\"$\\frac{x_2}{l_2}$\")\n",
    "plt.tight_layout()\n",
    "plt.show()"
   ]
  },
  {
   "cell_type": "markdown",
   "id": "83c227b1-e21f-43a2-80b7-8cece507d4e4",
   "metadata": {},
   "source": [
    "### Plot temperature fluctuation fields:\n",
    "\n",
    "The following plot shows the temperature fluctuation field $\\tilde{\\theta}(\\boldsymbol{x})$ for both load cases $\\overline{\\boldsymbol{g}} \\in \\left\\{ \\overline{\\boldsymbol{g}}^{(1)}, \\overline{\\boldsymbol{g}}^{(2)} \\right\\}$."
   ]
  },
  {
   "cell_type": "code",
   "execution_count": null,
   "id": "95da8283-92b1-4120-af21-52508ddf6762",
   "metadata": {},
   "outputs": [],
   "source": [
    "fig, ax = plt.subplots(1, 2, figsize=[6.3, 2.6], dpi=300)\n",
    "plot_channel(temp[0,0], temp[0,1], channel=0, ax=ax, cmap=\"jet\", plot_error=False, cbar_label=r\"$\\tilde{\\theta} \\,\\mathrm{[K]}$\")\n",
    "\n",
    "for load_i, load_name in enumerate(loading_names):\n",
    "    ax[load_i].set_title(rf\"Loading {load_name}\")\n",
    "for ax_handle in ax.ravel():\n",
    "    ax_handle.axis('on')\n",
    "    ax_handle.set_xlim(-0.5, 0.5)\n",
    "    ax_handle.set_ylim(-0.5, 0.5)\n",
    "    ax_handle.set_xticks([-0.5, 0.0, 0.5])\n",
    "    ax_handle.set_yticks([-0.5, 0.0, 0.5])\n",
    "    ax_handle.set_xlabel(r\"$\\frac{x_1}{l_1}$\")\n",
    "    ax_handle.set_ylabel(r\"$\\frac{x_2}{l_2}$\")\n",
    "plt.tight_layout()\n",
    "plt.show()"
   ]
  },
  {
   "cell_type": "markdown",
   "id": "86612343-45e7-4fe6-87ae-e4fd39803ea8",
   "metadata": {},
   "source": [
    "### Plot heat flux fields:\n",
    "\n",
    "The following plot shows the components $q_1(\\boldsymbol{x})$ and $q_2(\\boldsymbol{x})$ of the heat flux vector-field $\\boldsymbol{q}(\\boldsymbol{x})$ for both load cases $\\overline{\\boldsymbol{g}} \\in \\left\\{ \\overline{\\boldsymbol{g}}^{(1)}, \\overline{\\boldsymbol{g}}^{(2)} \\right\\}$."
   ]
  },
  {
   "cell_type": "code",
   "execution_count": null,
   "id": "50fb4231-235b-4737-93da-7a7ae009295d",
   "metadata": {},
   "outputs": [],
   "source": [
    "fig, ax = plt.subplots(2, 2, figsize=[6.3, 5.2], dpi=300)\n",
    "plot_channel(flux[0,0], flux[0,1], channel=0, ax=ax[0], cmap=\"jet\", plot_error=False, cbar_label=r\"$q_1 \\,\\mathrm{\\left[ \\frac{W}{m^2} \\right]}$\", centered=False)\n",
    "plot_channel(flux[0,0], flux[0,1], channel=1, ax=ax[1], cmap=\"jet\", plot_error=False, cbar_label=r\"$q_2 \\,\\mathrm{\\left[ \\frac{W}{m^2} \\right]}$\", centered=False)\n",
    "\n",
    "for load_i, load_name in enumerate(loading_names):\n",
    "    ax[0, load_i].set_title(rf\"Loading {load_name}\")\n",
    "for ax_handle in ax.ravel():\n",
    "    ax_handle.axis('on')\n",
    "    ax_handle.set_xlim(-0.5, 0.5)\n",
    "    ax_handle.set_ylim(-0.5, 0.5)\n",
    "    ax_handle.set_xticks([-0.5, 0.0, 0.5])\n",
    "    ax_handle.set_yticks([-0.5, 0.0, 0.5])\n",
    "    ax_handle.set_xlabel(r\"$\\frac{x_1}{l_1}$\")\n",
    "    ax_handle.set_ylabel(r\"$\\frac{x_2}{l_2}$\")\n",
    "plt.tight_layout()\n",
    "plt.show()"
   ]
  },
  {
   "cell_type": "markdown",
   "id": "3386d226-a569-4a34-9539-9e5ced8a8f21",
   "metadata": {},
   "source": [
    "### Homogenized response\n",
    "\n",
    "$$ \\bar{\\boldsymbol{q}} = - \\bar{\\boldsymbol{\\kappa}} \\bar{\\boldsymbol{g}} $$"
   ]
  },
  {
   "cell_type": "code",
   "execution_count": null,
   "id": "17a54ea2-434e-42bb-b283-d1a3a3bb2075",
   "metadata": {},
   "outputs": [],
   "source": [
    "kappa_bar = -homogenize(flux).squeeze()\n",
    "print('Homogenized kappa:', kappa_bar, sep='\\n')\n",
    "print('eig(kappa): ', torch.linalg.eigvals(kappa_bar).real)"
   ]
  },
  {
   "cell_type": "markdown",
   "id": "74d85214-4774-4d89-b5d0-07781fcdc941",
   "metadata": {},
   "source": [
    "### Voigt-Reuss bounds\n",
    "\n",
    "Simple theoretical upper and lower bounds for the eigenvalues of the effective heat conductivity tensor $\\bar{\\boldsymbol{\\kappa}}$ are available through the Voigt-Reuss bounds $\\kappa_\\mathrm{ub}$ and $\\kappa_\\mathrm{lb}$, which depend only on the volume fractions ($f_0$, $f_1$) and the material parameters ($\\kappa_0$, $\\kappa_1$). They are defined as\n",
    "\\begin{equation}\n",
    "\t\\kappa_\\mathrm{reuss} = \\left( f_0 \\kappa_0^{-1} + f_1 \\kappa_1^{-1} \\right)^{-1}\n",
    "\t\\leq \\mathrm{eig}\\left( \\bar{\\boldsymbol{\\kappa}} \\right) \\leq\n",
    "\tf_0 \\kappa_0 + f_1 \\kappa_1 = \\kappa_\\mathrm{voigt} \\,.\n",
    "\\end{equation}"
   ]
  },
  {
   "cell_type": "code",
   "execution_count": null,
   "id": "659fa721-6a75-407d-b634-358cec585bf2",
   "metadata": {},
   "outputs": [],
   "source": [
    "vol_frac = homogenize(image)\n",
    "reuss = 1. / (vol_frac / params[1] + (1. - vol_frac) / params[0])\n",
    "voigt = vol_frac * params[1] + (1. - vol_frac) * params[0]\n",
    "print(f\"reuss = {reuss.item():.4f} <= eig(kappa) <= {voigt.item():.4f} = voigt\")"
   ]
  },
  {
   "cell_type": "markdown",
   "id": "f3e3af71-02e0-47b2-99dd-2d1678dc4c67",
   "metadata": {},
   "source": [
    "### Interactive widget for the thermal homogenization problem\n",
    "\n",
    "This interactive widget allows the user to play around with different paramaters of the homogenization problem and solve it in real-time to observe their implications.\n",
    "In the background, a high-fidelity simulation using the FEM on a 400x400 grid (given directly by the microstructure) is carried out on the GPU using our *FANS-CG* solver [3,4] that features a special FFT-based preconditioner tailored to this problem.\n",
    "At the moment, the bottleneck of the interactive widget is not the simulation itself (about 5-10ms on a state-of-the-art GPU) but rather the visualization using matplotlib (>200ms).\n",
    "With GPU-accelerated rendering via e.g. OpenCV, this could be improved greatly.\n",
    "\n",
    "The homogenization problem is solved for two orthogonal load cases (load case 1 with $\\bar{\\boldsymbol{g}}=\\bar{\\boldsymbol{g}}^{(1)}$ and load case 2 with $\\bar{\\boldsymbol{g}}=\\bar{\\boldsymbol{g}}^{(2)}$) in order to determine the homogenized response, i.e., the effective thermal conductivity $\\bar{\\boldsymbol{\\kappa}} \\; \\mathrm{[W/m^2]}$ based on a given microstructure and given phase-wise material parameters $\\kappa_0, \\kappa_1 \\; \\mathrm{[W/m^2]}$.\n",
    "For simplicity, the thermal conductivity of the matrix material $\\kappa_0 = 1 \\; \\mathrm{[W/m^2]}$ is fixed (since this is a linear problem that can be scaled arbitrarily) and the conductivity of the inclusion phase can be varied between $0.1 \\leq \\kappa_1 \\leq 0.9 \\; \\mathrm{[W/m^2]}$.\n",
    "In this version of the demonstrator, the user can choose between 30000 randomly generated microstructures (Microstructure id: 0-29999) with a resolution of 400x400.\n",
    "In the future, it may be interesting to provide users with the ability to draw microstructures on the fly or to upload their own images.\n",
    "\n",
    "Besides, the temperature fluctuation fields $\\tilde{\\theta} \\; \\mathrm{[K]}$, the magnitude of the heat fluxes $||\\boldsymbol{q}|| \\; \\mathrm{[W/m^2]}$ is shown for each load case.\n",
    "Above, the effective thermal conductivity $\\bar{\\boldsymbol{\\kappa}} \\; \\mathrm{[W/m^2]}$ (which is a spd second-order tensor) is visualized.\n",
    "For that, its eigenvalues $\\mathrm{eig}(\\bar{\\boldsymbol{\\kappa}}) \\; \\mathrm{[W/m^2]}$ are plotted along the theoretical Voigt/Reuss bounds and the phase-wise material parameters $\\kappa_0, \\kappa_1 \\; \\mathrm{[W/m^2]}$.\n",
    "As one can observe, the eigenvalues depend highly on the microstructure and the given material parameters. However, they are always within the Voigt/Reuss bounds.\n",
    "In addition to the material parameter $\\kappa_1 \\; \\mathrm{[W/m^2]}$ and the microstructure id, the user can define the direction of the macroscopic temperature gradients $\\bar{\\boldsymbol{g}} \\; \\mathrm{[-]}$ that are imposed as loadings via the angle $\\alpha \\; [°]$:\n",
    "\\begin{equation}\n",
    "    \\bar{\\boldsymbol{g}}^{(1)} = \\begin{bmatrix} \\cos \\alpha \\\\ -\\sin \\alpha \\end{bmatrix} \\,, \\quad \\bar{\\boldsymbol{g}}^{(2)} = \\begin{bmatrix} \\sin \\alpha \\\\ \\cos \\alpha \\end{bmatrix}\n",
    "\\end{equation}\n",
    "While this parameter has a great effect on the full-field solutions of the heat fluxes and temperature fluctuations, the effective thermal conductivity is independent of them as expected."
   ]
  },
  {
   "cell_type": "code",
   "execution_count": null,
   "id": "14eb1443-2c2e-43fb-9c7f-d35bc40500f6",
   "metadata": {},
   "outputs": [],
   "source": [
    "widget = ThermalWidget(samples=samples, model=model, surrogate=surrogate, device=device, dtype=dtype, show_colorbars=True, figsize=[9,8], dpi=120)\n",
    "slider_args = {\"continuous_update\": False}  # for a more interactive UX this could be set to True\n",
    "ms_input = ipywidgets.BoundedIntText(value=37, min=0, max=len(samples) - 1, step=1, description='Microstructure id:', disabled=False,\n",
    "                                     style={'description_width': 'initial'}, layout = ipywidgets.Layout(width='200px'))\n",
    "kappa1_slider = ipywidgets.FloatSlider(min=0.1, max=0.9, step=0.01, value=0.2, **slider_args, description=r\"$\\kappa_1 \\; \\mathrm{[W/m^2]}$\")\n",
    "alpha_slider = ipywidgets.IntSlider(min=0, max=90, step=1, value=0, **slider_args, description=r\"$\\alpha \\; [°]$\")\n",
    "widget.update(ms_input.value, kappa1_slider.value, alpha_slider.value)  # dry-run\n",
    "widget.update(ms_input.value, kappa1_slider.value, alpha_slider.value, print_times=True)  # benchmark\n",
    "interactive_plot = ipywidgets.interactive(widget.update, ms_id=ms_input, kappa1=kappa1_slider, alpha=alpha_slider)\n",
    "display(ipywidgets.HBox([ms_input, kappa1_slider, alpha_slider]))\n",
    "plt.show()"
   ]
  },
  {
   "cell_type": "code",
   "execution_count": null,
   "id": "1ae7195c-947b-4912-8971-64b94b7eda69",
   "metadata": {},
   "outputs": [],
   "source": []
  }
 ],
 "metadata": {
  "kernelspec": {
   "display_name": "3.12.4",
   "language": "python",
   "name": "python3"
  },
  "language_info": {
   "codemirror_mode": {
    "name": "ipython",
    "version": 3
   },
   "file_extension": ".py",
   "mimetype": "text/x-python",
   "name": "python",
   "nbconvert_exporter": "python",
   "pygments_lexer": "ipython3",
   "version": "3.12.4"
  }
 },
 "nbformat": 4,
 "nbformat_minor": 5
}
